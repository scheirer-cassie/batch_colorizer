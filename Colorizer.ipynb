{
  "nbformat": 4,
  "nbformat_minor": 0,
  "metadata": {
    "colab": {
      "name": "Colorizer",
      "provenance": [],
      "collapsed_sections": [],
      "toc_visible": true
    },
    "kernelspec": {
      "name": "python3",
      "display_name": "Python 3"
    },
    "accelerator": "GPU"
  },
  "cells": [
    {
      "cell_type": "markdown",
      "metadata": {
        "id": "2ekdcDxFyFJn",
        "colab_type": "text"
      },
      "source": [
        "# Install and Authenticate GDrive Libraries"
      ]
    },
    {
      "cell_type": "code",
      "metadata": {
        "id": "uSDvFc0Owca9",
        "colab_type": "code",
        "colab": {}
      },
      "source": [
        "# authenticate and mount gdrive\n",
        "from google.colab import drive\n",
        "drive.mount('/content/gdrive')"
      ],
      "execution_count": 0,
      "outputs": []
    },
    {
      "cell_type": "code",
      "metadata": {
        "id": "f7JH5ZpBziy1",
        "colab_type": "code",
        "colab": {}
      },
      "source": [
        "# install pydrive and google API\n",
        "!pip install PyDrive\n",
        "!pip install --upgrade google-api-python-client google-auth-httplib2 google-auth-oauthlib"
      ],
      "execution_count": 0,
      "outputs": []
    },
    {
      "cell_type": "code",
      "metadata": {
        "id": "JSyq8vGSzePV",
        "colab_type": "code",
        "colab": {}
      },
      "source": [
        "# import stuff\n",
        "import os\n",
        "from pydrive.auth import GoogleAuth\n",
        "from pydrive.drive import GoogleDrive\n",
        "from google.colab import auth\n",
        "from google.colab import drive\n",
        "from google.colab import files\n",
        "from oauth2client.client import GoogleCredentials"
      ],
      "execution_count": 0,
      "outputs": []
    },
    {
      "cell_type": "code",
      "metadata": {
        "id": "jrqbD_rqwU1J",
        "colab_type": "code",
        "colab": {}
      },
      "source": [
        "# authenticate gdrive use for pydrive\n",
        "\n",
        "from pydrive.drive import GoogleDrive\n",
        "\n",
        "# 1. Authenticate and create the PyDrive client.\n",
        "auth.authenticate_user()\n",
        "gauth = GoogleAuth()\n",
        "gauth.credentials = GoogleCredentials.get_application_default()\n",
        "drive = GoogleDrive(gauth)\n",
        "\n",
        "# choose a local (colab) directory to store the data.\n",
        "local_download_path = os.path.expanduser('~/data')\n",
        "try:\n",
        "  os.makedirs(local_download_path)\n",
        "except: pass"
      ],
      "execution_count": 0,
      "outputs": []
    },
    {
      "cell_type": "markdown",
      "metadata": {
        "id": "z9mhJnXKyRZA",
        "colab_type": "text"
      },
      "source": [
        "# Collect DeOldify Code from GitHub"
      ]
    },
    {
      "cell_type": "code",
      "metadata": {
        "id": "96wrpwSvdXWb",
        "colab_type": "code",
        "colab": {}
      },
      "source": [
        "cd /content"
      ],
      "execution_count": 0,
      "outputs": []
    },
    {
      "cell_type": "code",
      "metadata": {
        "id": "nTQvbDc-2xpf",
        "colab_type": "code",
        "colab": {}
      },
      "source": [
        "from os import path\n",
        "import torch"
      ],
      "execution_count": 0,
      "outputs": []
    },
    {
      "cell_type": "code",
      "metadata": {
        "id": "87nFU9i-w6eV",
        "colab_type": "code",
        "colab": {}
      },
      "source": [
        "!git clone https://github.com/jantic/DeOldify.git DeOldify "
      ],
      "execution_count": 0,
      "outputs": []
    },
    {
      "cell_type": "code",
      "metadata": {
        "id": "3DQb-lPOw99D",
        "colab_type": "code",
        "colab": {}
      },
      "source": [
        "cd /content/DeOldify"
      ],
      "execution_count": 0,
      "outputs": []
    },
    {
      "cell_type": "code",
      "metadata": {
        "id": "GShSqJLQw_0z",
        "colab_type": "code",
        "colab": {}
      },
      "source": [
        "!pip install -r requirements.txt"
      ],
      "execution_count": 0,
      "outputs": []
    },
    {
      "cell_type": "code",
      "metadata": {
        "id": "PZknUtRfxDbe",
        "colab_type": "code",
        "colab": {}
      },
      "source": [
        "import fastai\n",
        "from deoldify.visualize import *\n",
        "from pathlib import Path\n",
        "torch.backends.cudnn.benchmark=True"
      ],
      "execution_count": 0,
      "outputs": []
    },
    {
      "cell_type": "code",
      "metadata": {
        "id": "lrEqhvaGxFue",
        "colab_type": "code",
        "colab": {}
      },
      "source": [
        "!mkdir 'models'\n",
        "!wget wget https://www.dropbox.com/s/zkehq1uwahhbc2o/ColorizeArtistic_gen.pth?dl=0 -O ./models/ColorizeArtistic_gen.pth"
      ],
      "execution_count": 0,
      "outputs": []
    },
    {
      "cell_type": "markdown",
      "metadata": {
        "id": "4YWC-BCRy0TB",
        "colab_type": "text"
      },
      "source": [
        "# Unzip and Colorize Photos\n",
        "Given an ID of a GDrive folder of zips of b&w images, iterate through the zips, unzip them, colorize the images inside, zip the colorized images to a new folder, and delete the original zip and all the b&w photos."
      ]
    },
    {
      "cell_type": "code",
      "metadata": {
        "id": "yCOOziskMvKM",
        "colab_type": "code",
        "colab": {}
      },
      "source": [
        "colorizer = get_image_colorizer(artistic=True)"
      ],
      "execution_count": 0,
      "outputs": []
    },
    {
      "cell_type": "code",
      "metadata": {
        "id": "v1moIxUDM78n",
        "colab_type": "code",
        "colab": {}
      },
      "source": [
        "# ID of the folder of b&w zips\n",
        "zips_folder_id = '13Ap3P8G2TX_S6N0rbqFy7V-wiEyWRPcW' #@param {type: \"string\"}"
      ],
      "execution_count": 0,
      "outputs": []
    },
    {
      "cell_type": "code",
      "metadata": {
        "id": "wyRHePPTRLdx",
        "colab_type": "code",
        "colab": {}
      },
      "source": [
        "path_root = \"/content/gdrive/My Drive/\"\n",
        "\n",
        "# name of folder above on Google Drive\n",
        "zip_folder_name = 'test' #@param {type: \"string\"}\n",
        "\n",
        "path_to_zips_folder = path_root + zip_folder_name"
      ],
      "execution_count": 0,
      "outputs": []
    },
    {
      "cell_type": "code",
      "metadata": {
        "id": "3NXWzkp9Fetc",
        "colab_type": "code",
        "colab": {}
      },
      "source": [
        "# path to the folder that will contain the new zips of colorized photos\n",
        "colorized_zips_folder = \"/content/gdrive/\\\"My Drive\\\"/colorized\" #@param {type: \"string\"}"
      ],
      "execution_count": 0,
      "outputs": []
    },
    {
      "cell_type": "code",
      "metadata": {
        "id": "H8tGDCJCaIhC",
        "colab_type": "code",
        "colab": {}
      },
      "source": [
        "!echo \"$path_to_zips_folder\""
      ],
      "execution_count": 0,
      "outputs": []
    },
    {
      "cell_type": "code",
      "metadata": {
        "id": "fbCbxHW_RqNn",
        "colab_type": "code",
        "colab": {}
      },
      "source": [
        "cd $path_to_zips_folder"
      ],
      "execution_count": 0,
      "outputs": []
    },
    {
      "cell_type": "code",
      "metadata": {
        "id": "T-U8NPjfNHYs",
        "colab_type": "code",
        "colab": {}
      },
      "source": [
        "from deoldify.visualize import *\n",
        "drive = GoogleDrive(gauth)\n",
        "\n",
        "# retrieve google file information on all zips\n",
        "zip_file_list = drive.ListFile(\n",
        "    {'q': \"'%s' in parents\" % zips_folder_id}).GetList()\n",
        "\n",
        "file_info = {}\n",
        "counter = 0\n",
        "\n",
        "for zip_file in zip_file_list:\n",
        "  counter += 1\n",
        "  file_info[zip_file['title'].split(\".\")[0]] = zip_file['id']\n",
        "    \n",
        "zips_left = len(file_info)\n",
        "\n",
        "print(\"zips left:\", zips_left)\n",
        "#print(file_info)\n",
        "#print(len(file_info))"
      ],
      "execution_count": 0,
      "outputs": []
    },
    {
      "cell_type": "code",
      "metadata": {
        "id": "OBERhxDdPDnL",
        "colab_type": "code",
        "colab": {}
      },
      "source": [
        "from deoldify.visualize import *\n",
        "\n",
        "import time\n",
        "import subprocess\n",
        "\n",
        "for box_zip in file_info:\n",
        "  \n",
        "  #unzip current zip file into folder\n",
        "  zip_name = box_zip + \".zip\"\n",
        "  !echo \"$zip_name\"\n",
        "  !echo \"$box_zip\"\n",
        "  \n",
        "  zip_path = path_to_zips_folder + \"/\" + zip_name\n",
        "  \n",
        "  if not os.path.exists(zip_path):\n",
        "    continue\n",
        "  \n",
        "  print(\"\\n\")\n",
        "  print(\"unzipping\", box_zip, \"\\n\")\n",
        "  \n",
        "  !unzip -q $zip_name -d $box_zip\n",
        "  \n",
        "  #wait 10 secs for the new folder to load\n",
        "  print(\"loading\", box_zip, \"folder (10 sec)\\n\")\n",
        "  time.sleep(10)\n",
        "  \n",
        "  %cd $box_zip\n",
        "  num_files = int(os.popen(\"ls | wc -l\").read().split('\\n')[0])\n",
        "  print(\"files unzipped:\", num_files, \"\\n\")\n",
        "  %cd ..\n",
        "  \n",
        "  #get id of new b&w folder\n",
        "  newest_folder = drive.ListFile(\n",
        "      {'q': \"mimeType = 'application/vnd.google-apps.folder' and '%s' in parents\" % zips_folder_id}).GetList()[0]\n",
        "  \n",
        "  #update dictionary\n",
        "  file_info[box_zip] = newest_folder['id']\n",
        "  \n",
        "  #id is currently that of the folder made from the zip file\n",
        "  folder_id = file_info[box_zip]\n",
        "  \n",
        "  #print(\"loading images in\", box_zip, \"folder (20 sec)\\n\")\n",
        "  #time.sleep(20)\n",
        "  \n",
        "  #retrieve google file information on all images in folder\n",
        "  file_list = {}\n",
        "  \n",
        "  while len(file_list) < num_files:\n",
        "    time.sleep(1)\n",
        "    file_list = drive.ListFile(\n",
        "        {'q': \"'%s' in parents\" % folder_id}).GetList()\n",
        "    print(\"current files loaded in\", box_zip + \":\", len(file_list))\n",
        "  \n",
        "  #print(\"file_list = \", file_list)\n",
        "  print(\"total files loaded in\", box_zip + \":\", len(file_list), \"\\n\")\n",
        "  \n",
        "  image_titles = []\n",
        "  \n",
        "  #print(image_titles)\n",
        "  \n",
        "  #get list of image titles\n",
        "  for img in file_list:\n",
        "      if img['mimeType'] == \"image/png\":\n",
        "        image_titles += [img['title']]\n",
        "        \n",
        "  print(\"images: \\n\", image_titles)\n",
        "  \n",
        "  # resolution of colorizer (from 7 to 45)\n",
        "  render_factor = 35  #@param {type: \"slider\", min: 7, max: 45}\n",
        "  \n",
        "  move_directory = path_to_zips_folder + \"/\" + box_zip\n",
        "  !echo \"$move_directory\"\n",
        "  %cd $move_directory\n",
        "  \n",
        "  #colorize!\n",
        "  for image in image_titles:\n",
        "\n",
        "      img_path = path_to_zips_folder + '/' + box_zip + '/' + image\n",
        "\n",
        "      if img_path is not None and img_path !='':\n",
        "          img_path = Path(img_path)\n",
        "          \n",
        "          #transform and save the image\n",
        "          clr_img = colorizer.get_transformed_image(img_path, render_factor=render_factor)\n",
        "          clr_img2 = colorizer._save_result_image(img_path, clr_img)\n",
        "          \n",
        "          print(image + \" colorized\")\n",
        "\n",
        "      else:\n",
        "          print('Provide an image url and try again.')\n",
        "            \n",
        "  print(\"\\n\", box_zip, \"is all colorized!\\n\")\n",
        "  \n",
        "  %cd ..\n",
        "  \n",
        "  #zip all new colorized images and save to a general folder\n",
        "  colorized_zip_path = colorized_zips_folder + '/' + \"CLR_\" + box_zip\n",
        "  !echo \"$colorized_zip_path\"\n",
        "  \n",
        "  print(\"\\n\")\n",
        "  \n",
        "  curr_result_images = box_zip + \"/result_images\"\n",
        "  !zip -r -q $colorized_zip_path $curr_result_images\n",
        " \n",
        "  print(\"CLR_\" + box_zip, \"has been zipped \\n\")\n",
        "  \n",
        "  #reauthenticate\n",
        "  auth.authenticate_user()\n",
        "  gauth = GoogleAuth()\n",
        "  gauth.credentials = GoogleCredentials.get_application_default()\n",
        "  drive = GoogleDrive(gauth)\n",
        "\n",
        "  local_download_path = os.path.expanduser('~/data')\n",
        "  try:\n",
        "    os.makedirs(local_download_path)\n",
        "  except: pass\n",
        "\n",
        "  print(\"authenticated\")\n",
        "  \n",
        "  #delete the original zip\n",
        "  for zip_file in zip_file_list:\n",
        "    if zip_file['title'].split(\".\")[0] == box_zip:\n",
        "      zip_file.Delete()\n",
        "   \n",
        "  box_folder = drive.CreateFile({'id': folder_id})\n",
        "  box_folder.Delete()\n",
        " \n",
        "  #!echo \"$box_zip\"\n",
        "  #%rm -r $box_zip\n",
        "  \n",
        "  print(\"\\n\")\n",
        "  print(box_zip, \"zip and folder deleted\\n\")\n",
        "  \n",
        "  zips_left -= 1\n",
        "  \n",
        "  print(\"zips left:\", zips_left, \"\\n\")\n",
        "  \n",
        "  print(\"next box!\\n\")\n",
        "  print(\"------------------------------------------------------\\n\")\n",
        "  print(\"\\n\")\n",
        "  \n",
        "  \n",
        "print(\"\"\"\n",
        "      /\\/\\/\\/\\/\\/\\/\\/\\/\\/\\/\\/\\/\\/\\/\\/\\/\\/\\/\\/\\/\\/\\/\\/\\/\\/\\/\\/\n",
        "                        Colorizing complete!\n",
        "      /\\/\\/\\/\\/\\/\\/\\/\\/\\/\\/\\/\\/\\/\\/\\/\\/\\/\\/\\/\\/\\/\\/\\/\\/\\/\\/\\/\"\"\")    "
      ],
      "execution_count": 0,
      "outputs": []
    }
  ]
}